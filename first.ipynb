{
 "cells": [
  {
   "cell_type": "code",
   "execution_count": 1,
   "id": "af3f5e0d-0055-4177-8675-d1a15e328664",
   "metadata": {},
   "outputs": [
    {
     "data": {
      "text/plain": [
       "'C:\\\\Users\\\\lee\\\\Desktop\\\\Graduate'"
      ]
     },
     "execution_count": 1,
     "metadata": {},
     "output_type": "execute_result"
    }
   ],
   "source": [
    "pwd"
   ]
  },
  {
   "cell_type": "code",
   "execution_count": 3,
   "id": "85dd3a79-c1c1-482a-a229-61960bf94e6d",
   "metadata": {},
   "outputs": [
    {
     "name": "stdout",
     "output_type": "stream",
     "text": [
      " C 드라이브의 볼륨에는 이름이 없습니다.\n",
      " 볼륨 일련 번호: FC16-4A21\n",
      "\n",
      " C:\\Users\\lee\\Desktop\\Graduate 디렉터리\n",
      "\n",
      "2024-07-20  오후 01:05    <DIR>          .\n",
      "2024-07-20  오전 02:28    <DIR>          ..\n",
      "2024-07-20  오후 01:05    <DIR>          .ipynb_checkpoints\n",
      "2024-07-19  오후 05:12             1,338 detect_action.py\n",
      "2024-07-19  오후 01:55    <DIR>          env\n",
      "2024-07-20  오후 01:04                72 first.ipynb\n",
      "2024-05-09  오후 07:32        15,368,164 helmet.mp4\n",
      "2024-07-17  오후 03:38         1,108,570 helmet.png\n",
      "2024-05-09  오후 01:32        14,320,552 helmet_best.pt\n",
      "2024-07-17  오후 03:30    <DIR>          ppt_file\n",
      "2024-07-17  오후 05:41    <DIR>          test_with_gps_device\n",
      "2024-07-19  오후 04:25    <DIR>          yolov5\n",
      "2024-07-19  오후 04:10        14,808,437 yolov5s.pt\n",
      "               6개 파일          45,607,133 바이트\n",
      "               7개 디렉터리  141,399,240,704 바이트 남음\n"
     ]
    }
   ],
   "source": [
    "ls"
   ]
  },
  {
   "cell_type": "code",
   "execution_count": 7,
   "id": "31e482b6-48a8-4857-8d91-254980eafd0b",
   "metadata": {},
   "outputs": [
    {
     "name": "stdout",
     "output_type": "stream",
     "text": [
      " C 드라이브의 볼륨에는 이름이 없습니다.\n",
      " 볼륨 일련 번호: FC16-4A21\n",
      "\n",
      " C:\\Users\\lee\\Desktop\\Graduate\\yolov5 디렉터리\n",
      "\n",
      "2024-07-19  오후 04:25    <DIR>          .\n",
      "2024-07-20  오후 01:05    <DIR>          ..\n",
      "2024-07-19  오후 02:24             3,923 .dockerignore\n",
      "2024-07-19  오후 02:24                77 .gitattributes\n",
      "2024-07-19  오후 02:24    <DIR>          .github\n",
      "2024-07-19  오후 02:24             4,255 .gitignore\n",
      "2024-07-19  오후 04:26    <DIR>          __pycache__\n",
      "2024-07-19  오후 02:24            14,412 benchmarks.py\n",
      "2024-07-19  오후 02:24               407 CITATION.cff\n",
      "2024-07-19  오후 02:24    <DIR>          classify\n",
      "2024-07-19  오후 02:24             5,074 CONTRIBUTING.md\n",
      "2024-07-19  오후 02:24    <DIR>          data\n",
      "2024-07-19  오후 02:24            23,507 detect.py\n",
      "2024-07-19  오후 02:24            67,934 export.py\n",
      "2024-07-19  오후 02:24            24,477 hubconf.py\n",
      "2024-07-19  오후 02:24            35,184 LICENSE\n",
      "2024-07-19  오후 04:25    <DIR>          models\n",
      "2024-07-19  오후 02:24             5,524 pyproject.toml\n",
      "2024-07-19  오후 02:24            43,041 README.md\n",
      "2024-07-19  오후 02:24            42,763 README.zh-CN.md\n",
      "2024-07-19  오후 02:24             1,647 requirements.txt\n",
      "2024-07-19  오후 02:24    <DIR>          segment\n",
      "2024-07-19  오후 02:24            48,116 train.py\n",
      "2024-07-19  오후 02:24            42,085 tutorial.ipynb\n",
      "2024-07-19  오후 04:26    <DIR>          utils\n",
      "2024-07-19  오후 02:24            31,027 val.py\n",
      "              17개 파일             393,453 바이트\n",
      "               9개 디렉터리  140,851,421,184 바이트 남음\n"
     ]
    }
   ],
   "source": [
    "ls yolov5"
   ]
  },
  {
   "cell_type": "code",
   "execution_count": 25,
   "id": "ffdc9c45-8695-4269-a19c-01309edf74a6",
   "metadata": {},
   "outputs": [
    {
     "name": "stdout",
     "output_type": "stream",
     "text": [
      "--sys.version—\n",
      "3.12.4 | packaged by Anaconda, Inc. | (main, Jun 18 2024, 15:03:56) [MSC v.1929 64 bit (AMD64)]\n"
     ]
    }
   ],
   "source": [
    "import sys\n",
    "\n",
    "print(\"--sys.version—\")\n",
    "print(sys.version)"
   ]
  },
  {
   "cell_type": "code",
   "execution_count": 34,
   "id": "0a60d04e-2452-47d0-9c5f-a70b650fc33a",
   "metadata": {},
   "outputs": [
    {
     "name": "stdout",
     "output_type": "stream",
     "text": [
      "Requirement already satisfied: opencv-python in c:\\users\\lee\\anaconda3\\lib\\site-packages (4.10.0.84)\n",
      "Requirement already satisfied: numpy>=1.21.2 in c:\\users\\lee\\anaconda3\\lib\\site-packages (from opencv-python) (1.26.4)\n",
      "Note: you may need to restart the kernel to use updated packages.\n"
     ]
    }
   ],
   "source": [
    "pip install opencv-python"
   ]
  },
  {
   "cell_type": "code",
   "execution_count": null,
   "id": "4cb39cc1-a406-40cf-80fd-1c78638a0a05",
   "metadata": {},
   "outputs": [],
   "source": [
    "import cv2\n",
    "#0이면 노트북 내장 웹캠 숫자를 올리면 추가된 웹캠을 이용할 수 있다.\n",
    "cap = cv2.VideoCapture(0)\n",
    "# 3은 가로 4는 세로 길이 \n",
    "cap.set(3, 720)\n",
    "cap.set(4, 1080)\n",
    "\n",
    "while True:\n",
    "    ret, frame = cap.read()\n",
    "    cv2.imshow('test', frame)\n",
    "\n",
    "    k = cv2.waitKey(1)\n",
    "    if k == 27:\n",
    "        break\n",
    "\n",
    "cap.release()\n",
    "\n",
    "cv2.destroyAllWindows()\n"
   ]
  },
  {
   "cell_type": "code",
   "execution_count": 5,
   "id": "5add3ea0-7e82-4c91-85ae-cf29107ba001",
   "metadata": {},
   "outputs": [
    {
     "name": "stdout",
     "output_type": "stream",
     "text": [
      "Collecting torch\n",
      "  Using cached torch-2.3.1-cp312-cp312-win_amd64.whl.metadata (26 kB)\n",
      "Requirement already satisfied: filelock in c:\\users\\lee\\anaconda3\\lib\\site-packages (from torch) (3.13.1)\n",
      "Requirement already satisfied: typing-extensions>=4.8.0 in c:\\users\\lee\\anaconda3\\lib\\site-packages (from torch) (4.11.0)\n",
      "Requirement already satisfied: sympy in c:\\users\\lee\\anaconda3\\lib\\site-packages (from torch) (1.12)\n",
      "Requirement already satisfied: networkx in c:\\users\\lee\\anaconda3\\lib\\site-packages (from torch) (3.2.1)\n",
      "Requirement already satisfied: jinja2 in c:\\users\\lee\\anaconda3\\lib\\site-packages (from torch) (3.1.4)\n",
      "Requirement already satisfied: fsspec in c:\\users\\lee\\anaconda3\\lib\\site-packages (from torch) (2024.3.1)\n",
      "Collecting mkl<=2021.4.0,>=2021.1.1 (from torch)\n",
      "  Using cached mkl-2021.4.0-py2.py3-none-win_amd64.whl.metadata (1.4 kB)\n",
      "Collecting intel-openmp==2021.* (from mkl<=2021.4.0,>=2021.1.1->torch)\n",
      "  Using cached intel_openmp-2021.4.0-py2.py3-none-win_amd64.whl.metadata (1.2 kB)\n",
      "Collecting tbb==2021.* (from mkl<=2021.4.0,>=2021.1.1->torch)\n",
      "  Using cached tbb-2021.13.0-py3-none-win_amd64.whl.metadata (1.1 kB)\n",
      "Requirement already satisfied: MarkupSafe>=2.0 in c:\\users\\lee\\anaconda3\\lib\\site-packages (from jinja2->torch) (2.1.3)\n",
      "Requirement already satisfied: mpmath>=0.19 in c:\\users\\lee\\anaconda3\\lib\\site-packages (from sympy->torch) (1.3.0)\n",
      "Using cached torch-2.3.1-cp312-cp312-win_amd64.whl (159.7 MB)\n",
      "Using cached mkl-2021.4.0-py2.py3-none-win_amd64.whl (228.5 MB)\n",
      "Using cached intel_openmp-2021.4.0-py2.py3-none-win_amd64.whl (3.5 MB)\n",
      "Using cached tbb-2021.13.0-py3-none-win_amd64.whl (286 kB)\n",
      "Installing collected packages: tbb, intel-openmp, mkl, torch\n",
      "Successfully installed intel-openmp-2021.4.0 mkl-2021.4.0 tbb-2021.13.0 torch-2.3.1\n",
      "Note: you may need to restart the kernel to use updated packages.\n"
     ]
    }
   ],
   "source": [
    "pip install torch"
   ]
  },
  {
   "cell_type": "code",
   "execution_count": 25,
   "id": "d78c9129-f426-4de2-a701-e0907c65eb4b",
   "metadata": {},
   "outputs": [
    {
     "name": "stderr",
     "output_type": "stream",
     "text": [
      "Downloading: \"https://github.com/ultralytics/yolov5/zipball/master\" to C:\\Users\\lee/.cache\\torch\\hub\\master.zip\n",
      "YOLOv5  2024-7-20 Python-3.12.4 torch-2.3.1+cpu CPU\n",
      "\n",
      "Fusing layers... \n",
      "YOLOv5s summary: 157 layers, 7012822 parameters, 0 gradients, 15.8 GFLOPs\n",
      "Adding AutoShape... \n"
     ]
    },
    {
     "name": "stdout",
     "output_type": "stream",
     "text": [
      "helmet detected\n"
     ]
    },
    {
     "data": {
      "text/plain": [
       "\"\\nerror : Exception: cannot instantiate 'PosixPath' on your system. Cache may be out of date, try `force_reload=True` or see https://docs.ultralytics.com/yolov5/tutorials/pytorch_hub_model_loading for help.\\nsolution :  import pathlib\\n            temp = pathlib.PosixPath\\n            pathlib.PosixPath = pathlib.WindowsPath\\n\\ndont know why....\\n\""
      ]
     },
     "execution_count": 25,
     "metadata": {},
     "output_type": "execute_result"
    }
   ],
   "source": [
    "\n",
    "import torch\n",
    "import pathlib\n",
    "temp = pathlib.PosixPath\n",
    "pathlib.PosixPath = pathlib.WindowsPath\n",
    "\n",
    "# Model\n",
    "# model = torch.hub.load('ultralytics/yolov5', 'yolov5s')  # or yolov5m, yolov5l, yolov5x, etc.\n",
    "model = torch.hub.load('ultralytics/yolov5', 'custom','helmet_best.pt', force_reload=True)  # custom trained model\n",
    "\n",
    "# Images\n",
    "im = '.\\\\helmet.png'  # or file, Path, URL, PIL, OpenCV, numpy, list\n",
    "\n",
    "# Inference\n",
    "results = model(im)\n",
    "\n",
    "# Results\n",
    "#results.print()  # or .show(), .save(), .crop(), .pandas(), etc.\n",
    "\n",
    "#results.show()\n",
    "results.xyxy[0]  # im predictions (tensor)\n",
    "results.pandas().xyxy[0]  # im predictions (pandas)\n",
    "\n",
    "try:\n",
    "    if \"helmet\" in results.pandas().xyxy[0][\"name\"].values:\n",
    "      print(\"helmet detected\")\n",
    "    else:\n",
    "      print(\"helmet not detected\")\n",
    "except Exception:\n",
    "    pass\n",
    "\n",
    "\n",
    "\"\"\"\n",
    "error : Exception: cannot instantiate 'PosixPath' on your system. Cache may be out of date, try `force_reload=True` or see https://docs.ultralytics.com/yolov5/tutorials/pytorch_hub_model_loading for help.\n",
    "solution :  import pathlib\n",
    "            temp = pathlib.PosixPath\n",
    "            pathlib.PosixPath = pathlib.WindowsPath\n",
    "\n",
    "dont know why....\n",
    "\"\"\""
   ]
  },
  {
   "cell_type": "code",
   "execution_count": null,
   "id": "aff23316-5c7a-45b3-9d8d-59322c9730bf",
   "metadata": {},
   "outputs": [],
   "source": []
  }
 ],
 "metadata": {
  "kernelspec": {
   "display_name": "Python 3 (ipykernel)",
   "language": "python",
   "name": "python3"
  },
  "language_info": {
   "codemirror_mode": {
    "name": "ipython",
    "version": 3
   },
   "file_extension": ".py",
   "mimetype": "text/x-python",
   "name": "python",
   "nbconvert_exporter": "python",
   "pygments_lexer": "ipython3",
   "version": "3.12.4"
  }
 },
 "nbformat": 4,
 "nbformat_minor": 5
}
